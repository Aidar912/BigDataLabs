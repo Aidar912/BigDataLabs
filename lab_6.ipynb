{
 "cells": [
  {
   "cell_type": "code",
   "execution_count": 131,
   "metadata": {
    "collapsed": true
   },
   "outputs": [],
   "source": [
    "import pandas as pd\n",
    "import numpy as np\n",
    "import random\n",
    "from sklearn.datasets import load_digits,load_iris\n",
    "from sklearn.model_selection import train_test_split, cross_val_score, GridSearchCV\n",
    "from sklearn.metrics import accuracy_score, confusion_matrix, classification_report\n",
    "from sklearn.ensemble import RandomForestClassifier"
   ]
  },
  {
   "cell_type": "code",
   "execution_count": 132,
   "outputs": [
    {
     "name": "stdout",
     "output_type": "stream",
     "text": [
      "Точность для набора данных iris: 1.0\n",
      "Матрица ошибок для набора данных iris:\n",
      " [[10  0  0]\n",
      " [ 0  9  0]\n",
      " [ 0  0 11]]\n",
      "Отчёт о классификации для набора данных iris:\n",
      "               precision    recall  f1-score   support\n",
      "\n",
      "           0       1.00      1.00      1.00        10\n",
      "           1       1.00      1.00      1.00         9\n",
      "           2       1.00      1.00      1.00        11\n",
      "\n",
      "    accuracy                           1.00        30\n",
      "   macro avg       1.00      1.00      1.00        30\n",
      "weighted avg       1.00      1.00      1.00        30\n",
      "\n"
     ]
    }
   ],
   "source": [
    "\n",
    "\n",
    "iris = load_iris()\n",
    "iris_df = pd.DataFrame(iris.data, columns=iris.feature_names)\n",
    "iris_df['target'] = iris.target\n",
    "\n",
    "X_train_iris, X_test_iris, y_train_iris, y_test_iris = train_test_split(\n",
    "    iris_df.drop('target', axis=1),\n",
    "    iris_df['target'],\n",
    "    test_size=0.2,\n",
    "    random_state=42\n",
    ")\n",
    "\n",
    "rf_iris = RandomForestClassifier(random_state=42)\n",
    "rf_iris.fit(X_train_iris, y_train_iris)\n",
    "y_pred_iris = rf_iris.predict(X_test_iris)\n",
    "print('Точность для набора данных iris:', accuracy_score(y_test_iris, y_pred_iris))\n",
    "print('Матрица ошибок для набора данных iris:\\n', confusion_matrix(y_test_iris, y_pred_iris))\n",
    "print('Отчёт о классификации для набора данных iris:\\n', classification_report(y_test_iris, y_pred_iris))\n"
   ],
   "metadata": {
    "collapsed": false
   }
  },
  {
   "cell_type": "code",
   "execution_count": 133,
   "outputs": [
    {
     "name": "stdout",
     "output_type": "stream",
     "text": [
      "Точность для набора данных load digits: 0.9722222222222222\n",
      "Матрица ошибок для набора данных load digits:\n",
      " [[32  0  0  0  1  0  0  0  0  0]\n",
      " [ 0 28  0  0  0  0  0  0  0  0]\n",
      " [ 0  0 33  0  0  0  0  0  0  0]\n",
      " [ 0  0  0 32  0  1  0  0  1  0]\n",
      " [ 0  0  0  0 46  0  0  0  0  0]\n",
      " [ 0  0  0  0  0 45  1  0  0  1]\n",
      " [ 0  0  0  0  0  1 34  0  0  0]\n",
      " [ 0  0  0  0  0  0  0 33  0  1]\n",
      " [ 0  1  0  0  0  0  0  0 29  0]\n",
      " [ 0  0  0  0  0  1  0  1  0 38]]\n",
      "Отчёт о классификации для набора данных load digits:\n",
      "               precision    recall  f1-score   support\n",
      "\n",
      "           0       1.00      0.97      0.98        33\n",
      "           1       0.97      1.00      0.98        28\n",
      "           2       1.00      1.00      1.00        33\n",
      "           3       1.00      0.94      0.97        34\n",
      "           4       0.98      1.00      0.99        46\n",
      "           5       0.94      0.96      0.95        47\n",
      "           6       0.97      0.97      0.97        35\n",
      "           7       0.97      0.97      0.97        34\n",
      "           8       0.97      0.97      0.97        30\n",
      "           9       0.95      0.95      0.95        40\n",
      "\n",
      "    accuracy                           0.97       360\n",
      "   macro avg       0.97      0.97      0.97       360\n",
      "weighted avg       0.97      0.97      0.97       360\n",
      "\n",
      "Оценки перекрёстной проверки для набора данных load digits: [0.93055556 0.91111111 0.95821727 0.96935933 0.9275766 ]\n",
      "Лучшие параметры для набора данных load digits: {'max_depth': None, 'min_samples_split': 2, 'n_estimators': 200}\n",
      "Лучший показатель для набора данных load digits: 0.9735578784359273\n",
      "Точность для набора данных load digits (оптимизированная): 0.9694444444444444\n",
      "Матрица ошибок для набора данных load digits (оптимизированная):\n",
      " [[32  0  0  0  1  0  0  0  0  0]\n",
      " [ 0 28  0  0  0  0  0  0  0  0]\n",
      " [ 0  0 33  0  0  0  0  0  0  0]\n",
      " [ 0  0  0 32  0  1  0  0  1  0]\n",
      " [ 0  0  0  0 46  0  0  0  0  0]\n",
      " [ 0  0  0  0  0 45  1  0  0  1]\n",
      " [ 0  0  0  0  0  1 34  0  0  0]\n",
      " [ 0  0  0  0  0  0  0 33  0  1]\n",
      " [ 0  2  0  0  0  0  0  0 28  0]\n",
      " [ 0  0  0  0  0  1  0  1  0 38]]\n",
      "Отчёт о классификации для набора данных load digits (оптимизированная):\n",
      "               precision    recall  f1-score   support\n",
      "\n",
      "           0       1.00      0.97      0.98        33\n",
      "           1       0.93      1.00      0.97        28\n",
      "           2       1.00      1.00      1.00        33\n",
      "           3       1.00      0.94      0.97        34\n",
      "           4       0.98      1.00      0.99        46\n",
      "           5       0.94      0.96      0.95        47\n",
      "           6       0.97      0.97      0.97        35\n",
      "           7       0.97      0.97      0.97        34\n",
      "           8       0.97      0.93      0.95        30\n",
      "           9       0.95      0.95      0.95        40\n",
      "\n",
      "    accuracy                           0.97       360\n",
      "   macro avg       0.97      0.97      0.97       360\n",
      "weighted avg       0.97      0.97      0.97       360\n",
      "\n"
     ]
    }
   ],
   "source": [
    "load_digits_data = load_digits()\n",
    "load_digits_df = pd.DataFrame(load_digits_data.data, columns=load_digits_data.feature_names)\n",
    "load_digits_df['target'] = load_digits_data.target\n",
    "\n",
    "X_train_bc, X_test_bc, y_train_bc, y_test_bc = train_test_split(\n",
    "    load_digits_df.drop('target', axis=1),\n",
    "    load_digits_df['target'],\n",
    "    test_size=0.2,\n",
    "    random_state=42\n",
    ")\n",
    "\n",
    "rf_bc = RandomForestClassifier(random_state=42)\n",
    "rf_bc.fit(X_train_bc, y_train_bc)\n",
    "y_pred_bc = rf_bc.predict(X_test_bc)\n",
    "\n",
    "print('Точность для набора данных load digits:', accuracy_score(y_test_bc, y_pred_bc))\n",
    "print('Матрица ошибок для набора данных load digits:\\n', confusion_matrix(y_test_bc, y_pred_bc))\n",
    "print('Отчёт о классификации для набора данных load digits:\\n', classification_report(y_test_bc, y_pred_bc))\n",
    "\n",
    "cv_scores = cross_val_score(rf_bc, load_digits_df.drop('target', axis=1), load_digits_df['target'], cv=5)\n",
    "print('Оценки перекрёстной проверки для набора данных load digits:', cv_scores)\n",
    "\n",
    "param_grid = {'n_estimators': [10, 50, 100, 200], 'max_depth': [None, 2, 4, 6, 8], 'min_samples_split': [2, 4, 6, 8]}\n",
    "grid_search = GridSearchCV(rf_bc, param_grid, cv=5, scoring='accuracy')\n",
    "grid_search.fit(X_train_bc, y_train_bc)\n",
    "\n",
    "print('Лучшие параметры для набора данных load digits:', grid_search.best_params_)\n",
    "print('Лучший показатель для набора данных load digits:', grid_search.best_score_)\n",
    "\n",
    "\n",
    "rf_bc_opt = RandomForestClassifier(\n",
    "    n_estimators=grid_search.best_params_['n_estimators'],\n",
    "    max_depth=grid_search.best_params_['max_depth'],\n",
    "    min_samples_split=grid_search.best_params_['min_samples_split'],\n",
    "    random_state=42\n",
    ")\n",
    "rf_bc_opt.fit(X_train_bc, y_train_bc)\n",
    "y_pred_bc_opt = rf_bc_opt.predict(X_test_bc)\n",
    "\n",
    "print('Точность для набора данных load digits (оптимизированная):', accuracy_score(y_test_bc, y_pred_bc_opt))\n",
    "print('Матрица ошибок для набора данных load digits (оптимизированная):\\n', confusion_matrix(y_test_bc, y_pred_bc_opt))\n",
    "print('Отчёт о классификации для набора данных load digits (оптимизированная):\\n', classification_report(y_test_bc, y_pred_bc_opt))"
   ],
   "metadata": {
    "collapsed": false
   }
  },
  {
   "cell_type": "code",
   "execution_count": 134,
   "outputs": [
    {
     "data": {
      "text/plain": "   salary     city  age         vacation_prefer transport_prefer  target\n0   89000    Нарын   49  Театральные постановки          автобус     Рим\n1  230000    Нарын   57      Океанские каникулы           Лайнер  Сидней\n2   30300    Талас   65  Театральные постановки          автобус  Сидней\n3  100000  Балыкчы   48                Треккинг           Лайнер  Сидней\n4   89000   Астана   37  Театральные постановки          автобус   Киото",
      "text/html": "<div>\n<style scoped>\n    .dataframe tbody tr th:only-of-type {\n        vertical-align: middle;\n    }\n\n    .dataframe tbody tr th {\n        vertical-align: top;\n    }\n\n    .dataframe thead th {\n        text-align: right;\n    }\n</style>\n<table border=\"1\" class=\"dataframe\">\n  <thead>\n    <tr style=\"text-align: right;\">\n      <th></th>\n      <th>salary</th>\n      <th>city</th>\n      <th>age</th>\n      <th>vacation_prefer</th>\n      <th>transport_prefer</th>\n      <th>target</th>\n    </tr>\n  </thead>\n  <tbody>\n    <tr>\n      <th>0</th>\n      <td>89000</td>\n      <td>Нарын</td>\n      <td>49</td>\n      <td>Театральные постановки</td>\n      <td>автобус</td>\n      <td>Рим</td>\n    </tr>\n    <tr>\n      <th>1</th>\n      <td>230000</td>\n      <td>Нарын</td>\n      <td>57</td>\n      <td>Океанские каникулы</td>\n      <td>Лайнер</td>\n      <td>Сидней</td>\n    </tr>\n    <tr>\n      <th>2</th>\n      <td>30300</td>\n      <td>Талас</td>\n      <td>65</td>\n      <td>Театральные постановки</td>\n      <td>автобус</td>\n      <td>Сидней</td>\n    </tr>\n    <tr>\n      <th>3</th>\n      <td>100000</td>\n      <td>Балыкчы</td>\n      <td>48</td>\n      <td>Треккинг</td>\n      <td>Лайнер</td>\n      <td>Сидней</td>\n    </tr>\n    <tr>\n      <th>4</th>\n      <td>89000</td>\n      <td>Астана</td>\n      <td>37</td>\n      <td>Театральные постановки</td>\n      <td>автобус</td>\n      <td>Киото</td>\n    </tr>\n  </tbody>\n</table>\n</div>"
     },
     "execution_count": 134,
     "metadata": {},
     "output_type": "execute_result"
    }
   ],
   "source": [
    "salary_list = [30300, 55000, 67000, 89000, 100000, 230000]\n",
    "city_list = ['Бишкек', 'Талас', 'Нарын', 'Астана', 'Алмата', 'Балыкчы']\n",
    "age_list = list(range(30, 66))\n",
    "vacation_prefer_list = ['Путешествия', 'Океанские каникулы', 'Сноубординг', 'Треккинг', 'Театральные постановки', 'Релаксация']\n",
    "transport_prefer_list = ['автомобиль', 'самолёт', 'поезд', 'автобус', 'Лайнер']\n",
    "target_list = ['Барселона', 'Рим', 'Кейптаун', 'Сидней', 'Киото', 'Бали']\n",
    "\n",
    "data = []\n",
    "for i in range(1000):\n",
    "    data.append([\n",
    "        random.choice(salary_list),\n",
    "        random.choice(city_list),\n",
    "        random.choice(age_list),\n",
    "        random.choice(vacation_prefer_list),\n",
    "        random.choice(transport_prefer_list),\n",
    "        random.choice(target_list)\n",
    "    ])\n",
    "\n",
    "vacation_df = pd.DataFrame(data, columns=['salary', 'city', 'age', 'vacation_prefer', 'transport_prefer', 'target'])\n",
    "vacation_df.head()\n"
   ],
   "metadata": {
    "collapsed": false
   }
  },
  {
   "cell_type": "code",
   "execution_count": 135,
   "outputs": [
    {
     "data": {
      "text/plain": "     salary     city  age         vacation_prefer transport_prefer  target\n0   89000.0    Нарын   49  Театральные постановки          автобус     Рим\n1  230000.0    Нарын   57      Океанские каникулы           Лайнер  Сидней\n2   30300.0    Талас   65  Театральные постановки          автобус  Сидней\n3  100000.0  Балыкчы   48                Треккинг           Лайнер  Сидней\n4   89000.0   Астана   37  Театральные постановки          автобус   Киото",
      "text/html": "<div>\n<style scoped>\n    .dataframe tbody tr th:only-of-type {\n        vertical-align: middle;\n    }\n\n    .dataframe tbody tr th {\n        vertical-align: top;\n    }\n\n    .dataframe thead th {\n        text-align: right;\n    }\n</style>\n<table border=\"1\" class=\"dataframe\">\n  <thead>\n    <tr style=\"text-align: right;\">\n      <th></th>\n      <th>salary</th>\n      <th>city</th>\n      <th>age</th>\n      <th>vacation_prefer</th>\n      <th>transport_prefer</th>\n      <th>target</th>\n    </tr>\n  </thead>\n  <tbody>\n    <tr>\n      <th>0</th>\n      <td>89000.0</td>\n      <td>Нарын</td>\n      <td>49</td>\n      <td>Театральные постановки</td>\n      <td>автобус</td>\n      <td>Рим</td>\n    </tr>\n    <tr>\n      <th>1</th>\n      <td>230000.0</td>\n      <td>Нарын</td>\n      <td>57</td>\n      <td>Океанские каникулы</td>\n      <td>Лайнер</td>\n      <td>Сидней</td>\n    </tr>\n    <tr>\n      <th>2</th>\n      <td>30300.0</td>\n      <td>Талас</td>\n      <td>65</td>\n      <td>Театральные постановки</td>\n      <td>автобус</td>\n      <td>Сидней</td>\n    </tr>\n    <tr>\n      <th>3</th>\n      <td>100000.0</td>\n      <td>Балыкчы</td>\n      <td>48</td>\n      <td>Треккинг</td>\n      <td>Лайнер</td>\n      <td>Сидней</td>\n    </tr>\n    <tr>\n      <th>4</th>\n      <td>89000.0</td>\n      <td>Астана</td>\n      <td>37</td>\n      <td>Театральные постановки</td>\n      <td>автобус</td>\n      <td>Киото</td>\n    </tr>\n  </tbody>\n</table>\n</div>"
     },
     "execution_count": 135,
     "metadata": {},
     "output_type": "execute_result"
    }
   ],
   "source": [
    "vacation_df.dtypes\n",
    "vacation_df['salary'] = vacation_df['salary'].astype(float)\n",
    "vacation_df.head()"
   ],
   "metadata": {
    "collapsed": false
   }
  },
  {
   "cell_type": "code",
   "execution_count": 136,
   "outputs": [
    {
     "data": {
      "text/plain": "     salary  age  target  city_Алмата  city_Астана  city_Балыкчы  city_Бишкек  \\\n0   89000.0   49     Рим        False        False         False        False   \n1  230000.0   57  Сидней        False        False         False        False   \n2   30300.0   65  Сидней        False        False         False        False   \n3  100000.0   48  Сидней        False        False          True        False   \n4   89000.0   37   Киото        False         True         False        False   \n\n   city_Нарын  city_Талас  vacation_prefer_Океанские каникулы  \\\n0        True       False                               False   \n1        True       False                                True   \n2       False        True                               False   \n3       False       False                               False   \n4       False       False                               False   \n\n   vacation_prefer_Путешествия  vacation_prefer_Релаксация  \\\n0                        False                       False   \n1                        False                       False   \n2                        False                       False   \n3                        False                       False   \n4                        False                       False   \n\n   vacation_prefer_Сноубординг  vacation_prefer_Театральные постановки  \\\n0                        False                                    True   \n1                        False                                   False   \n2                        False                                    True   \n3                        False                                   False   \n4                        False                                    True   \n\n   vacation_prefer_Треккинг  transport_prefer_Лайнер  \\\n0                     False                    False   \n1                     False                     True   \n2                     False                    False   \n3                      True                     True   \n4                     False                    False   \n\n   transport_prefer_автобус  transport_prefer_автомобиль  \\\n0                      True                        False   \n1                     False                        False   \n2                      True                        False   \n3                     False                        False   \n4                      True                        False   \n\n   transport_prefer_поезд  transport_prefer_самолёт  \n0                   False                     False  \n1                   False                     False  \n2                   False                     False  \n3                   False                     False  \n4                   False                     False  ",
      "text/html": "<div>\n<style scoped>\n    .dataframe tbody tr th:only-of-type {\n        vertical-align: middle;\n    }\n\n    .dataframe tbody tr th {\n        vertical-align: top;\n    }\n\n    .dataframe thead th {\n        text-align: right;\n    }\n</style>\n<table border=\"1\" class=\"dataframe\">\n  <thead>\n    <tr style=\"text-align: right;\">\n      <th></th>\n      <th>salary</th>\n      <th>age</th>\n      <th>target</th>\n      <th>city_Алмата</th>\n      <th>city_Астана</th>\n      <th>city_Балыкчы</th>\n      <th>city_Бишкек</th>\n      <th>city_Нарын</th>\n      <th>city_Талас</th>\n      <th>vacation_prefer_Океанские каникулы</th>\n      <th>vacation_prefer_Путешествия</th>\n      <th>vacation_prefer_Релаксация</th>\n      <th>vacation_prefer_Сноубординг</th>\n      <th>vacation_prefer_Театральные постановки</th>\n      <th>vacation_prefer_Треккинг</th>\n      <th>transport_prefer_Лайнер</th>\n      <th>transport_prefer_автобус</th>\n      <th>transport_prefer_автомобиль</th>\n      <th>transport_prefer_поезд</th>\n      <th>transport_prefer_самолёт</th>\n    </tr>\n  </thead>\n  <tbody>\n    <tr>\n      <th>0</th>\n      <td>89000.0</td>\n      <td>49</td>\n      <td>Рим</td>\n      <td>False</td>\n      <td>False</td>\n      <td>False</td>\n      <td>False</td>\n      <td>True</td>\n      <td>False</td>\n      <td>False</td>\n      <td>False</td>\n      <td>False</td>\n      <td>False</td>\n      <td>True</td>\n      <td>False</td>\n      <td>False</td>\n      <td>True</td>\n      <td>False</td>\n      <td>False</td>\n      <td>False</td>\n    </tr>\n    <tr>\n      <th>1</th>\n      <td>230000.0</td>\n      <td>57</td>\n      <td>Сидней</td>\n      <td>False</td>\n      <td>False</td>\n      <td>False</td>\n      <td>False</td>\n      <td>True</td>\n      <td>False</td>\n      <td>True</td>\n      <td>False</td>\n      <td>False</td>\n      <td>False</td>\n      <td>False</td>\n      <td>False</td>\n      <td>True</td>\n      <td>False</td>\n      <td>False</td>\n      <td>False</td>\n      <td>False</td>\n    </tr>\n    <tr>\n      <th>2</th>\n      <td>30300.0</td>\n      <td>65</td>\n      <td>Сидней</td>\n      <td>False</td>\n      <td>False</td>\n      <td>False</td>\n      <td>False</td>\n      <td>False</td>\n      <td>True</td>\n      <td>False</td>\n      <td>False</td>\n      <td>False</td>\n      <td>False</td>\n      <td>True</td>\n      <td>False</td>\n      <td>False</td>\n      <td>True</td>\n      <td>False</td>\n      <td>False</td>\n      <td>False</td>\n    </tr>\n    <tr>\n      <th>3</th>\n      <td>100000.0</td>\n      <td>48</td>\n      <td>Сидней</td>\n      <td>False</td>\n      <td>False</td>\n      <td>True</td>\n      <td>False</td>\n      <td>False</td>\n      <td>False</td>\n      <td>False</td>\n      <td>False</td>\n      <td>False</td>\n      <td>False</td>\n      <td>False</td>\n      <td>True</td>\n      <td>True</td>\n      <td>False</td>\n      <td>False</td>\n      <td>False</td>\n      <td>False</td>\n    </tr>\n    <tr>\n      <th>4</th>\n      <td>89000.0</td>\n      <td>37</td>\n      <td>Киото</td>\n      <td>False</td>\n      <td>True</td>\n      <td>False</td>\n      <td>False</td>\n      <td>False</td>\n      <td>False</td>\n      <td>False</td>\n      <td>False</td>\n      <td>False</td>\n      <td>False</td>\n      <td>True</td>\n      <td>False</td>\n      <td>False</td>\n      <td>True</td>\n      <td>False</td>\n      <td>False</td>\n      <td>False</td>\n    </tr>\n  </tbody>\n</table>\n</div>"
     },
     "execution_count": 136,
     "metadata": {},
     "output_type": "execute_result"
    }
   ],
   "source": [
    "vacation_df = pd.get_dummies(vacation_df, columns=['city', 'vacation_prefer', 'transport_prefer'])\n",
    "vacation_df.head()"
   ],
   "metadata": {
    "collapsed": false
   }
  },
  {
   "cell_type": "code",
   "execution_count": 137,
   "outputs": [],
   "source": [
    "X = vacation_df.drop('target', axis=1)\n",
    "y = vacation_df['target']\n",
    "X_train, X_test, y_train, y_test = train_test_split(X, y, test_size=0.2, random_state=42)"
   ],
   "metadata": {
    "collapsed": false
   }
  },
  {
   "cell_type": "code",
   "execution_count": 146,
   "outputs": [
    {
     "name": "stdout",
     "output_type": "stream",
     "text": [
      "Accuracy: 0.19\n"
     ]
    }
   ],
   "source": [
    "modelF = RandomForestClassifier(random_state=42)\n",
    "modelF.fit(X_train, y_train)\n",
    "\n",
    "y_pred = modelF.predict(X_test)\n",
    "\n",
    "\n",
    "\n",
    "accuracy = accuracy_score(y_test, y_pred)\n",
    "print(f'Accuracy: {accuracy:.2f}')"
   ],
   "metadata": {
    "collapsed": false
   }
  },
  {
   "cell_type": "code",
   "execution_count": 150,
   "outputs": [
    {
     "data": {
      "text/plain": "<Figure size 800x600 with 2 Axes>",
      "image/png": "[encoded data removed]"
     },
     "metadata": {},
     "output_type": "display_data"
    }
   ],
   "source": [
    "from matplotlib import pyplot as plt\n",
    "from sklearn.metrics import confusion_matrix\n",
    "import seaborn as sns\n",
    "cm = confusion_matrix(y_test, y_pred)\n",
    "plt.figure(figsize=(8, 6))\n",
    "sns.heatmap(cm, annot=True, fmt='d', cmap='Greens', xticklabels=modelF.classes_, yticklabels=modelF.classes_)\n",
    "plt.title('Confusion Matrix')\n",
    "plt.xlabel('Predicted Label')\n",
    "plt.ylabel('True Label')\n",
    "plt.show()"
   ],
   "metadata": {
    "collapsed": false
   }
  },
  {
   "cell_type": "code",
   "execution_count": 139,
   "outputs": [
    {
     "name": "stdout",
     "output_type": "stream",
     "text": [
      "   salary    city  age         vacation_prefer transport_prefer\n",
      "0  106024  Бишкек   30  Театральные постановки            поезд\n",
      "Predicted Destination: Киото\n"
     ]
    }
   ],
   "source": [
    "random_data = {\n",
    "    'salary': [np.random.randint(30000, 200000)],\n",
    "    'city': [np.random.choice(['Бишкек', 'Талас', 'Нарын', 'Астана', 'Алмата', 'Балыкчы'])],\n",
    "    'age': [np.random.randint(30, 65)],\n",
    "    'vacation_prefer': [np.random.choice(['Путешествия', 'Океанские каникулы', 'Сноубординг', 'Треккинг', 'Театральные постановки', 'Релаксация'])],\n",
    "    'transport_prefer': [np.random.choice(['автомобиль', 'самолёт', 'поезд', 'автобус', 'Лайнер'])]\n",
    "}\n",
    "\n",
    "random_df = pd.DataFrame(random_data)\n",
    "print(random_df)\n",
    "random_df_encoded = pd.get_dummies(random_df, columns=['city', 'vacation_prefer', 'transport_prefer'], drop_first=True)\n",
    "\n",
    "trained_features = X_train.columns\n",
    "\n",
    "random_df_encoded = random_df_encoded.reindex(columns=trained_features, fill_value=0)\n",
    "\n",
    "prediction = modelF.predict(random_df_encoded)\n",
    "\n",
    "print(f'Predicted Destination: {prediction[0]}')"
   ],
   "metadata": {
    "collapsed": false
   }
  },
  {
   "cell_type": "code",
   "execution_count": 140,
   "outputs": [
    {
     "name": "stdout",
     "output_type": "stream",
     "text": [
      "Best Model Accuracy: 0.20\n",
      "Best Parameters: {'max_depth': 8, 'min_samples_split': 8, 'n_estimators': 100}\n",
      "Отчет о классификации:\n",
      "              precision    recall  f1-score   support\n",
      "\n",
      "        Бали       0.18      0.26      0.22        27\n",
      "   Барселона       0.15      0.10      0.12        31\n",
      "    Кейптаун       0.12      0.07      0.09        40\n",
      "       Киото       0.29      0.15      0.20        33\n",
      "         Рим       0.22      0.46      0.30        35\n",
      "      Сидней       0.19      0.15      0.17        34\n",
      "\n",
      "    accuracy                           0.20       200\n",
      "   macro avg       0.19      0.20      0.18       200\n",
      "weighted avg       0.19      0.20      0.18       200\n",
      "\n"
     ]
    }
   ],
   "source": [
    "param_grid_gb = {\n",
    "    'n_estimators': [100, 200, 300],\n",
    "    'learning_rate': [0.0001, 0.001, 0.01, 0.1, 1.0],  # Использовать логарифмическую шкалу\n",
    "    'max_depth': [3, 5, 7]\n",
    "}\n",
    "model = RandomForestClassifier(random_state=42,class_weight=\"balanced\")\n",
    "grid_search_gb = GridSearchCV(model, param_grid, cv=5)\n",
    "grid_search_gb.fit(X_train, y_train)\n",
    "\n",
    "best_model_gb = grid_search_gb.best_estimator_\n",
    "best_params_gb = grid_search_gb.best_params_\n",
    "\n",
    "best_model_gb.fit(X_train, y_train)\n",
    "\n",
    "y_pred_gb = best_model_gb.predict(X_test)\n",
    "best_accuracy = best_model_gb.score(X_test, y_test)\n",
    "print(f'Best Model Accuracy: {best_accuracy:.2f}')\n",
    "print(f'Best Parameters: {best_params_gb}')\n",
    "\n",
    "print(\"Отчет о классификации:\")\n",
    "print(classification_report(y_test, y_pred_gb))"
   ],
   "metadata": {
    "collapsed": false
   }
  },
  {
   "cell_type": "markdown",
   "source": [
    "## Вывод из работы\n",
    "\n",
    "#### В ходе проведения лабораторной работы я ознакомился с основными концепциями оценки качества моделей машинного обучения, используя набор данных iris в качестве примера. Я применил различные методы улучшения и оценки моделей, такие как перекрестная проверка и решётчатый поиск, на наборе данных digits.В процессе моей работы я создал модель для определения предпочтений места отпуска на основе различных параметров. Я использовал данные о зарплате, городе проживания, возрасте, предпочтениях отпуска и транспорта, чтобы предсказать, где люди бы предпочли провести свой отпуск.Сперва я получил точность 19% ,после обучения модели и её оптимизации,а также изменения параметров я получил точность предсказаний на уровне 20%.Также я заметил,что при каждом запуске , в зависимости от dataset , меняется точность.Для этой цели мы создали собственный набор данных."
   ],
   "metadata": {
    "collapsed": false
   }
  },
  {
   "cell_type": "code",
   "execution_count": null,
   "outputs": [],
   "source": [],
   "metadata": {
    "collapsed": false
   }
  }
 ],
 "metadata": {
  "kernelspec": {
   "display_name": "Python 3",
   "language": "python",
   "name": "python3"
  },
  "language_info": {
   "codemirror_mode": {
    "name": "ipython",
    "version": 2
   },
   "file_extension": ".py",
   "mimetype": "text/x-python",
   "name": "python",
   "nbconvert_exporter": "python",
   "pygments_lexer": "ipython2",
   "version": "2.7.6"
  }
 },
 "nbformat": 4,
 "nbformat_minor": 0
}
