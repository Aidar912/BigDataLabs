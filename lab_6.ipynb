{
 "cells": [
  {
   "cell_type": "code",
   "execution_count": 13,
   "metadata": {
    "collapsed": true
   },
   "outputs": [],
   "source": [
    "import pandas as pd\n",
    "import random\n",
    "from sklearn.datasets import load_digits\n",
    "from sklearn.model_selection import train_test_split, cross_val_score, GridSearchCV\n",
    "from sklearn.metrics import accuracy_score, confusion_matrix, classification_report\n",
    "from sklearn.ensemble import RandomForestClassifier"
   ]
  },
  {
   "cell_type": "code",
   "execution_count": 14,
   "outputs": [
    {
     "name": "stdout",
     "output_type": "stream",
     "text": [
      "Accuracy score for iris dataset: 1.0\n",
      "Confusion matrix for iris dataset:\n",
      " [[10  0  0]\n",
      " [ 0  9  0]\n",
      " [ 0  0 11]]\n",
      "Classification report for iris dataset:\n",
      "               precision    recall  f1-score   support\n",
      "\n",
      "           0       1.00      1.00      1.00        10\n",
      "           1       1.00      1.00      1.00         9\n",
      "           2       1.00      1.00      1.00        11\n",
      "\n",
      "    accuracy                           1.00        30\n",
      "   macro avg       1.00      1.00      1.00        30\n",
      "weighted avg       1.00      1.00      1.00        30\n",
      "\n"
     ]
    }
   ],
   "source": [
    "from sklearn.datasets import load_iris\n",
    "iris = load_iris()\n",
    "iris_df = pd.DataFrame(iris.data, columns=iris.feature_names)\n",
    "iris_df['target'] = iris.target\n",
    "X_train_iris, X_test_iris, y_train_iris, y_test_iris = train_test_split(iris_df.drop('target', axis=1), iris_df['target'], test_size=0.2, random_state=42)\n",
    "rf_iris = RandomForestClassifier(random_state=42)\n",
    "rf_iris.fit(X_train_iris, y_train_iris)\n",
    "y_pred_iris = rf_iris.predict(X_test_iris)\n",
    "print('Accuracy score for iris dataset:', accuracy_score(y_test_iris, y_pred_iris))\n",
    "print('Confusion matrix for iris dataset:\\n', confusion_matrix(y_test_iris, y_pred_iris))\n",
    "print('Classification report for iris dataset:\\n', classification_report(y_test_iris, y_pred_iris))"
   ],
   "metadata": {
    "collapsed": false
   }
  },
  {
   "cell_type": "code",
   "execution_count": 15,
   "outputs": [
    {
     "name": "stdout",
     "output_type": "stream",
     "text": [
      "Accuracy score for load digits dataset: 0.9722222222222222\n",
      "Confusion matrix for load digits dataset:\n",
      " [[32  0  0  0  1  0  0  0  0  0]\n",
      " [ 0 28  0  0  0  0  0  0  0  0]\n",
      " [ 0  0 33  0  0  0  0  0  0  0]\n",
      " [ 0  0  0 32  0  1  0  0  1  0]\n",
      " [ 0  0  0  0 46  0  0  0  0  0]\n",
      " [ 0  0  0  0  0 45  1  0  0  1]\n",
      " [ 0  0  0  0  0  1 34  0  0  0]\n",
      " [ 0  0  0  0  0  0  0 33  0  1]\n",
      " [ 0  1  0  0  0  0  0  0 29  0]\n",
      " [ 0  0  0  0  0  1  0  1  0 38]]\n",
      "Classification report for load digits dataset:\n",
      "               precision    recall  f1-score   support\n",
      "\n",
      "           0       1.00      0.97      0.98        33\n",
      "           1       0.97      1.00      0.98        28\n",
      "           2       1.00      1.00      1.00        33\n",
      "           3       1.00      0.94      0.97        34\n",
      "           4       0.98      1.00      0.99        46\n",
      "           5       0.94      0.96      0.95        47\n",
      "           6       0.97      0.97      0.97        35\n",
      "           7       0.97      0.97      0.97        34\n",
      "           8       0.97      0.97      0.97        30\n",
      "           9       0.95      0.95      0.95        40\n",
      "\n",
      "    accuracy                           0.97       360\n",
      "   macro avg       0.97      0.97      0.97       360\n",
      "weighted avg       0.97      0.97      0.97       360\n",
      "\n",
      "Cross-validation scores for load digits dataset: [0.93055556 0.91111111 0.95821727 0.96935933 0.9275766 ]\n",
      "Best parameters for load digits dataset: {'max_depth': None, 'min_samples_split': 2, 'n_estimators': 200}\n",
      "Best score for load digits dataset: 0.9735578784359273\n",
      "Accuracy score for load digits dataset (optimized): 0.9694444444444444\n",
      "Confusion matrix for load digits dataset (optimized):\n",
      " [[32  0  0  0  1  0  0  0  0  0]\n",
      " [ 0 28  0  0  0  0  0  0  0  0]\n",
      " [ 0  0 33  0  0  0  0  0  0  0]\n",
      " [ 0  0  0 32  0  1  0  0  1  0]\n",
      " [ 0  0  0  0 46  0  0  0  0  0]\n",
      " [ 0  0  0  0  0 45  1  0  0  1]\n",
      " [ 0  0  0  0  0  1 34  0  0  0]\n",
      " [ 0  0  0  0  0  0  0 33  0  1]\n",
      " [ 0  2  0  0  0  0  0  0 28  0]\n",
      " [ 0  0  0  0  0  1  0  1  0 38]]\n",
      "Classification report for load digits dataset (optimized):\n",
      "               precision    recall  f1-score   support\n",
      "\n",
      "           0       1.00      0.97      0.98        33\n",
      "           1       0.93      1.00      0.97        28\n",
      "           2       1.00      1.00      1.00        33\n",
      "           3       1.00      0.94      0.97        34\n",
      "           4       0.98      1.00      0.99        46\n",
      "           5       0.94      0.96      0.95        47\n",
      "           6       0.97      0.97      0.97        35\n",
      "           7       0.97      0.97      0.97        34\n",
      "           8       0.97      0.93      0.95        30\n",
      "           9       0.95      0.95      0.95        40\n",
      "\n",
      "    accuracy                           0.97       360\n",
      "   macro avg       0.97      0.97      0.97       360\n",
      "weighted avg       0.97      0.97      0.97       360\n",
      "\n"
     ]
    }
   ],
   "source": [
    "load_digits = load_digits()\n",
    "load_digits_df = pd.DataFrame(load_digits.data, columns=load_digits.feature_names)\n",
    "load_digits_df['target'] = load_digits.target\n",
    "X_train_bc, X_test_bc, y_train_bc, y_test_bc = train_test_split(load_digits_df.drop('target', axis=1), load_digits_df['target'], test_size=0.2, random_state=42)\n",
    "rf_bc = RandomForestClassifier(random_state=42)\n",
    "rf_bc.fit(X_train_bc, y_train_bc)\n",
    "y_pred_bc = rf_bc.predict(X_test_bc)\n",
    "print('Accuracy score for load digits dataset:', accuracy_score(y_test_bc, y_pred_bc))\n",
    "print('Confusion matrix for load digits dataset:\\n', confusion_matrix(y_test_bc, y_pred_bc))\n",
    "print('Classification report for load digits dataset:\\n', classification_report(y_test_bc, y_pred_bc))\n",
    "cv_scores = cross_val_score(rf_bc, load_digits_df.drop('target', axis=1), load_digits_df['target'], cv=5)\n",
    "print('Cross-validation scores for load digits dataset:', cv_scores)\n",
    "param_grid = {'n_estimators': [10, 50, 100, 200], 'max_depth': [None, 2, 4, 6, 8], 'min_samples_split': [2, 4, 6, 8]}\n",
    "grid_search = GridSearchCV(rf_bc, param_grid, cv=5, scoring='accuracy')\n",
    "grid_search.fit(X_train_bc, y_train_bc)\n",
    "print('Best parameters for load digits dataset:', grid_search.best_params_)\n",
    "print('Best score for load digits dataset:', grid_search.best_score_)\n",
    "rf_bc_opt = RandomForestClassifier(n_estimators=grid_search.best_params_['n_estimators'], max_depth=grid_search.best_params_['max_depth'], min_samples_split=grid_search.best_params_['min_samples_split'], random_state=42)\n",
    "rf_bc_opt.fit(X_train_bc, y_train_bc)\n",
    "y_pred_bc_opt = rf_bc_opt.predict(X_test_bc)\n",
    "print('Accuracy score for load digits dataset (optimized):', accuracy_score(y_test_bc, y_pred_bc_opt))\n",
    "print('Confusion matrix for load digits dataset (optimized):\\n', confusion_matrix(y_test_bc, y_pred_bc_opt))\n",
    "print('Classification report for load digits dataset (optimized):\\n', classification_report(y_test_bc, y_pred_bc_opt))"
   ],
   "metadata": {
    "collapsed": false
   }
  },
  {
   "cell_type": "code",
   "execution_count": 16,
   "outputs": [
    {
     "data": {
      "text/plain": "   salary    city  age         vacation_prefer transport_prefer     target\n0   50000  Алмата   50              Релаксация            поезд     Сидней\n1   50000   Нарын   50  Театральные постановки            поезд  Барселона\n2  100000   Нарын   62              Релаксация            поезд   Кейптаун\n3   60000  Алмата   62             Сноубординг       автомобиль       Бали\n4   80000  Астана   55             Сноубординг       автомобиль       Бали",
      "text/html": "<div>\n<style scoped>\n    .dataframe tbody tr th:only-of-type {\n        vertical-align: middle;\n    }\n\n    .dataframe tbody tr th {\n        vertical-align: top;\n    }\n\n    .dataframe thead th {\n        text-align: right;\n    }\n</style>\n<table border=\"1\" class=\"dataframe\">\n  <thead>\n    <tr style=\"text-align: right;\">\n      <th></th>\n      <th>salary</th>\n      <th>city</th>\n      <th>age</th>\n      <th>vacation_prefer</th>\n      <th>transport_prefer</th>\n      <th>target</th>\n    </tr>\n  </thead>\n  <tbody>\n    <tr>\n      <th>0</th>\n      <td>50000</td>\n      <td>Алмата</td>\n      <td>50</td>\n      <td>Релаксация</td>\n      <td>поезд</td>\n      <td>Сидней</td>\n    </tr>\n    <tr>\n      <th>1</th>\n      <td>50000</td>\n      <td>Нарын</td>\n      <td>50</td>\n      <td>Театральные постановки</td>\n      <td>поезд</td>\n      <td>Барселона</td>\n    </tr>\n    <tr>\n      <th>2</th>\n      <td>100000</td>\n      <td>Нарын</td>\n      <td>62</td>\n      <td>Релаксация</td>\n      <td>поезд</td>\n      <td>Кейптаун</td>\n    </tr>\n    <tr>\n      <th>3</th>\n      <td>60000</td>\n      <td>Алмата</td>\n      <td>62</td>\n      <td>Сноубординг</td>\n      <td>автомобиль</td>\n      <td>Бали</td>\n    </tr>\n    <tr>\n      <th>4</th>\n      <td>80000</td>\n      <td>Астана</td>\n      <td>55</td>\n      <td>Сноубординг</td>\n      <td>автомобиль</td>\n      <td>Бали</td>\n    </tr>\n  </tbody>\n</table>\n</div>"
     },
     "execution_count": 16,
     "metadata": {},
     "output_type": "execute_result"
    }
   ],
   "source": [
    "\n",
    "salary_list = [50000, 60000, 70000, 80000, 90000, 100000]\n",
    "city_list = ['Бишкек', 'Талас', 'Нарын', 'Астана', 'Алмата', 'Балыкчы']\n",
    "age_list = list(range(30, 66))\n",
    "vacation_prefer_list = ['Путешествия', 'Океанские каникулы', 'Сноубординг', 'Треккинг', 'Театральные постановки', 'Релаксация']\n",
    "transport_prefer_list = ['автомобиль', 'самолёт', 'поезд', 'автобус','Лайнер']\n",
    "\n",
    "target_list = ['Барселона', 'Рим', 'Кейптаун', 'Сидней', 'Киото', 'Бали']\n",
    "\n",
    "vacation_df = pd.DataFrame(columns=['salary', 'city', 'age', 'vacation_prefer', 'transport_prefer', 'target'])\n",
    "for i in range(1000):\n",
    "  vacation_df.loc[i] = [random.choice(salary_list), random.choice(city_list), random.choice(age_list), random.choice(vacation_prefer_list), random.choice(transport_prefer_list), random.choice(target_list)]\n",
    "vacation_df.head()"
   ],
   "metadata": {
    "collapsed": false
   }
  },
  {
   "cell_type": "code",
   "execution_count": 17,
   "outputs": [
    {
     "data": {
      "text/plain": "     salary    city  age         vacation_prefer transport_prefer     target\n0   50000.0  Алмата   50              Релаксация            поезд     Сидней\n1   50000.0   Нарын   50  Театральные постановки            поезд  Барселона\n2  100000.0   Нарын   62              Релаксация            поезд   Кейптаун\n3   60000.0  Алмата   62             Сноубординг       автомобиль       Бали\n4   80000.0  Астана   55             Сноубординг       автомобиль       Бали",
      "text/html": "<div>\n<style scoped>\n    .dataframe tbody tr th:only-of-type {\n        vertical-align: middle;\n    }\n\n    .dataframe tbody tr th {\n        vertical-align: top;\n    }\n\n    .dataframe thead th {\n        text-align: right;\n    }\n</style>\n<table border=\"1\" class=\"dataframe\">\n  <thead>\n    <tr style=\"text-align: right;\">\n      <th></th>\n      <th>salary</th>\n      <th>city</th>\n      <th>age</th>\n      <th>vacation_prefer</th>\n      <th>transport_prefer</th>\n      <th>target</th>\n    </tr>\n  </thead>\n  <tbody>\n    <tr>\n      <th>0</th>\n      <td>50000.0</td>\n      <td>Алмата</td>\n      <td>50</td>\n      <td>Релаксация</td>\n      <td>поезд</td>\n      <td>Сидней</td>\n    </tr>\n    <tr>\n      <th>1</th>\n      <td>50000.0</td>\n      <td>Нарын</td>\n      <td>50</td>\n      <td>Театральные постановки</td>\n      <td>поезд</td>\n      <td>Барселона</td>\n    </tr>\n    <tr>\n      <th>2</th>\n      <td>100000.0</td>\n      <td>Нарын</td>\n      <td>62</td>\n      <td>Релаксация</td>\n      <td>поезд</td>\n      <td>Кейптаун</td>\n    </tr>\n    <tr>\n      <th>3</th>\n      <td>60000.0</td>\n      <td>Алмата</td>\n      <td>62</td>\n      <td>Сноубординг</td>\n      <td>автомобиль</td>\n      <td>Бали</td>\n    </tr>\n    <tr>\n      <th>4</th>\n      <td>80000.0</td>\n      <td>Астана</td>\n      <td>55</td>\n      <td>Сноубординг</td>\n      <td>автомобиль</td>\n      <td>Бали</td>\n    </tr>\n  </tbody>\n</table>\n</div>"
     },
     "execution_count": 17,
     "metadata": {},
     "output_type": "execute_result"
    }
   ],
   "source": [
    "vacation_df.dtypes\n",
    "vacation_df['salary'] = vacation_df['salary'].astype(float)\n",
    "vacation_df.head()"
   ],
   "metadata": {
    "collapsed": false
   }
  },
  {
   "cell_type": "code",
   "execution_count": 18,
   "outputs": [
    {
     "data": {
      "text/plain": "     salary  age  city_Алмата  city_Астана  city_Балыкчы  city_Бишкек  \\\n0   50000.0   50         True        False         False        False   \n1   50000.0   50        False        False         False        False   \n2  100000.0   62        False        False         False        False   \n3   60000.0   62         True        False         False        False   \n4   80000.0   55        False         True         False        False   \n\n   city_Нарын  city_Талас  vacation_prefer_Океанские каникулы  \\\n0       False       False                               False   \n1        True       False                               False   \n2        True       False                               False   \n3       False       False                               False   \n4       False       False                               False   \n\n   vacation_prefer_Путешествия  ...  transport_prefer_автобус  \\\n0                        False  ...                     False   \n1                        False  ...                     False   \n2                        False  ...                     False   \n3                        False  ...                     False   \n4                        False  ...                     False   \n\n   transport_prefer_автомобиль  transport_prefer_поезд  \\\n0                        False                    True   \n1                        False                    True   \n2                        False                    True   \n3                         True                   False   \n4                         True                   False   \n\n   transport_prefer_самолёт  target_Бали  target_Барселона  target_Кейптаун  \\\n0                     False        False             False            False   \n1                     False        False              True            False   \n2                     False        False             False             True   \n3                     False         True             False            False   \n4                     False         True             False            False   \n\n   target_Киото  target_Рим  target_Сидней  \n0         False       False           True  \n1         False       False          False  \n2         False       False          False  \n3         False       False          False  \n4         False       False          False  \n\n[5 rows x 25 columns]",
      "text/html": "<div>\n<style scoped>\n    .dataframe tbody tr th:only-of-type {\n        vertical-align: middle;\n    }\n\n    .dataframe tbody tr th {\n        vertical-align: top;\n    }\n\n    .dataframe thead th {\n        text-align: right;\n    }\n</style>\n<table border=\"1\" class=\"dataframe\">\n  <thead>\n    <tr style=\"text-align: right;\">\n      <th></th>\n      <th>salary</th>\n      <th>age</th>\n      <th>city_Алмата</th>\n      <th>city_Астана</th>\n      <th>city_Балыкчы</th>\n      <th>city_Бишкек</th>\n      <th>city_Нарын</th>\n      <th>city_Талас</th>\n      <th>vacation_prefer_Океанские каникулы</th>\n      <th>vacation_prefer_Путешествия</th>\n      <th>...</th>\n      <th>transport_prefer_автобус</th>\n      <th>transport_prefer_автомобиль</th>\n      <th>transport_prefer_поезд</th>\n      <th>transport_prefer_самолёт</th>\n      <th>target_Бали</th>\n      <th>target_Барселона</th>\n      <th>target_Кейптаун</th>\n      <th>target_Киото</th>\n      <th>target_Рим</th>\n      <th>target_Сидней</th>\n    </tr>\n  </thead>\n  <tbody>\n    <tr>\n      <th>0</th>\n      <td>50000.0</td>\n      <td>50</td>\n      <td>True</td>\n      <td>False</td>\n      <td>False</td>\n      <td>False</td>\n      <td>False</td>\n      <td>False</td>\n      <td>False</td>\n      <td>False</td>\n      <td>...</td>\n      <td>False</td>\n      <td>False</td>\n      <td>True</td>\n      <td>False</td>\n      <td>False</td>\n      <td>False</td>\n      <td>False</td>\n      <td>False</td>\n      <td>False</td>\n      <td>True</td>\n    </tr>\n    <tr>\n      <th>1</th>\n      <td>50000.0</td>\n      <td>50</td>\n      <td>False</td>\n      <td>False</td>\n      <td>False</td>\n      <td>False</td>\n      <td>True</td>\n      <td>False</td>\n      <td>False</td>\n      <td>False</td>\n      <td>...</td>\n      <td>False</td>\n      <td>False</td>\n      <td>True</td>\n      <td>False</td>\n      <td>False</td>\n      <td>True</td>\n      <td>False</td>\n      <td>False</td>\n      <td>False</td>\n      <td>False</td>\n    </tr>\n    <tr>\n      <th>2</th>\n      <td>100000.0</td>\n      <td>62</td>\n      <td>False</td>\n      <td>False</td>\n      <td>False</td>\n      <td>False</td>\n      <td>True</td>\n      <td>False</td>\n      <td>False</td>\n      <td>False</td>\n      <td>...</td>\n      <td>False</td>\n      <td>False</td>\n      <td>True</td>\n      <td>False</td>\n      <td>False</td>\n      <td>False</td>\n      <td>True</td>\n      <td>False</td>\n      <td>False</td>\n      <td>False</td>\n    </tr>\n    <tr>\n      <th>3</th>\n      <td>60000.0</td>\n      <td>62</td>\n      <td>True</td>\n      <td>False</td>\n      <td>False</td>\n      <td>False</td>\n      <td>False</td>\n      <td>False</td>\n      <td>False</td>\n      <td>False</td>\n      <td>...</td>\n      <td>False</td>\n      <td>True</td>\n      <td>False</td>\n      <td>False</td>\n      <td>True</td>\n      <td>False</td>\n      <td>False</td>\n      <td>False</td>\n      <td>False</td>\n      <td>False</td>\n    </tr>\n    <tr>\n      <th>4</th>\n      <td>80000.0</td>\n      <td>55</td>\n      <td>False</td>\n      <td>True</td>\n      <td>False</td>\n      <td>False</td>\n      <td>False</td>\n      <td>False</td>\n      <td>False</td>\n      <td>False</td>\n      <td>...</td>\n      <td>False</td>\n      <td>True</td>\n      <td>False</td>\n      <td>False</td>\n      <td>True</td>\n      <td>False</td>\n      <td>False</td>\n      <td>False</td>\n      <td>False</td>\n      <td>False</td>\n    </tr>\n  </tbody>\n</table>\n<p>5 rows × 25 columns</p>\n</div>"
     },
     "execution_count": 18,
     "metadata": {},
     "output_type": "execute_result"
    }
   ],
   "source": [
    "vacation_df = pd.get_dummies(vacation_df, columns=['city', 'vacation_prefer', 'transport_prefer', 'target'])\n",
    "vacation_df.head()"
   ],
   "metadata": {
    "collapsed": false
   }
  },
  {
   "cell_type": "code",
   "execution_count": 19,
   "outputs": [
    {
     "ename": "KeyError",
     "evalue": "\"['target_London', 'target_Moscow', 'target_Paris', 'target_New York', 'target_Dubai', 'target_Tokyo'] not found in axis\"",
     "output_type": "error",
     "traceback": [
      "\u001B[1;31m---------------------------------------------------------------------------\u001B[0m",
      "\u001B[1;31mKeyError\u001B[0m                                  Traceback (most recent call last)",
      "Cell \u001B[1;32mIn[19], line 1\u001B[0m\n\u001B[1;32m----> 1\u001B[0m X_vacation \u001B[38;5;241m=\u001B[39m \u001B[43mvacation_df\u001B[49m\u001B[38;5;241;43m.\u001B[39;49m\u001B[43mdrop\u001B[49m\u001B[43m(\u001B[49m\u001B[43m[\u001B[49m\u001B[38;5;124;43m'\u001B[39;49m\u001B[38;5;124;43mtarget_London\u001B[39;49m\u001B[38;5;124;43m'\u001B[39;49m\u001B[43m,\u001B[49m\u001B[43m \u001B[49m\u001B[38;5;124;43m'\u001B[39;49m\u001B[38;5;124;43mtarget_Moscow\u001B[39;49m\u001B[38;5;124;43m'\u001B[39;49m\u001B[43m,\u001B[49m\u001B[43m \u001B[49m\u001B[38;5;124;43m'\u001B[39;49m\u001B[38;5;124;43mtarget_Paris\u001B[39;49m\u001B[38;5;124;43m'\u001B[39;49m\u001B[43m,\u001B[49m\u001B[43m \u001B[49m\u001B[38;5;124;43m'\u001B[39;49m\u001B[38;5;124;43mtarget_New York\u001B[39;49m\u001B[38;5;124;43m'\u001B[39;49m\u001B[43m,\u001B[49m\u001B[43m \u001B[49m\u001B[38;5;124;43m'\u001B[39;49m\u001B[38;5;124;43mtarget_Dubai\u001B[39;49m\u001B[38;5;124;43m'\u001B[39;49m\u001B[43m,\u001B[49m\u001B[43m \u001B[49m\u001B[38;5;124;43m'\u001B[39;49m\u001B[38;5;124;43mtarget_Tokyo\u001B[39;49m\u001B[38;5;124;43m'\u001B[39;49m\u001B[43m]\u001B[49m\u001B[43m,\u001B[49m\u001B[43m \u001B[49m\u001B[43maxis\u001B[49m\u001B[38;5;241;43m=\u001B[39;49m\u001B[38;5;241;43m1\u001B[39;49m\u001B[43m)\u001B[49m\n\u001B[0;32m      2\u001B[0m y_vacation \u001B[38;5;241m=\u001B[39m vacation_df[\u001B[38;5;124m'\u001B[39m\u001B[38;5;124mtarget_London\u001B[39m\u001B[38;5;124m'\u001B[39m]\n\u001B[0;32m      3\u001B[0m X_train_vacation, X_test_vacation, y_train_vacation, y_test_vacation \u001B[38;5;241m=\u001B[39m train_test_split(X_vacation, y_vacation, test_size\u001B[38;5;241m=\u001B[39m\u001B[38;5;241m0.2\u001B[39m, random_state\u001B[38;5;241m=\u001B[39m\u001B[38;5;241m42\u001B[39m)\n",
      "File \u001B[1;32m~\\AppData\\Local\\Programs\\Python\\Python310\\lib\\site-packages\\pandas\\core\\frame.py:5347\u001B[0m, in \u001B[0;36mDataFrame.drop\u001B[1;34m(self, labels, axis, index, columns, level, inplace, errors)\u001B[0m\n\u001B[0;32m   5199\u001B[0m \u001B[38;5;28;01mdef\u001B[39;00m \u001B[38;5;21mdrop\u001B[39m(\n\u001B[0;32m   5200\u001B[0m     \u001B[38;5;28mself\u001B[39m,\n\u001B[0;32m   5201\u001B[0m     labels: IndexLabel \u001B[38;5;241m|\u001B[39m \u001B[38;5;28;01mNone\u001B[39;00m \u001B[38;5;241m=\u001B[39m \u001B[38;5;28;01mNone\u001B[39;00m,\n\u001B[1;32m   (...)\u001B[0m\n\u001B[0;32m   5208\u001B[0m     errors: IgnoreRaise \u001B[38;5;241m=\u001B[39m \u001B[38;5;124m\"\u001B[39m\u001B[38;5;124mraise\u001B[39m\u001B[38;5;124m\"\u001B[39m,\n\u001B[0;32m   5209\u001B[0m ) \u001B[38;5;241m-\u001B[39m\u001B[38;5;241m>\u001B[39m DataFrame \u001B[38;5;241m|\u001B[39m \u001B[38;5;28;01mNone\u001B[39;00m:\n\u001B[0;32m   5210\u001B[0m \u001B[38;5;250m    \u001B[39m\u001B[38;5;124;03m\"\"\"\u001B[39;00m\n\u001B[0;32m   5211\u001B[0m \u001B[38;5;124;03m    Drop specified labels from rows or columns.\u001B[39;00m\n\u001B[0;32m   5212\u001B[0m \n\u001B[1;32m   (...)\u001B[0m\n\u001B[0;32m   5345\u001B[0m \u001B[38;5;124;03m            weight  1.0     0.8\u001B[39;00m\n\u001B[0;32m   5346\u001B[0m \u001B[38;5;124;03m    \"\"\"\u001B[39;00m\n\u001B[1;32m-> 5347\u001B[0m     \u001B[38;5;28;01mreturn\u001B[39;00m \u001B[38;5;28;43msuper\u001B[39;49m\u001B[43m(\u001B[49m\u001B[43m)\u001B[49m\u001B[38;5;241;43m.\u001B[39;49m\u001B[43mdrop\u001B[49m\u001B[43m(\u001B[49m\n\u001B[0;32m   5348\u001B[0m \u001B[43m        \u001B[49m\u001B[43mlabels\u001B[49m\u001B[38;5;241;43m=\u001B[39;49m\u001B[43mlabels\u001B[49m\u001B[43m,\u001B[49m\n\u001B[0;32m   5349\u001B[0m \u001B[43m        \u001B[49m\u001B[43maxis\u001B[49m\u001B[38;5;241;43m=\u001B[39;49m\u001B[43maxis\u001B[49m\u001B[43m,\u001B[49m\n\u001B[0;32m   5350\u001B[0m \u001B[43m        \u001B[49m\u001B[43mindex\u001B[49m\u001B[38;5;241;43m=\u001B[39;49m\u001B[43mindex\u001B[49m\u001B[43m,\u001B[49m\n\u001B[0;32m   5351\u001B[0m \u001B[43m        \u001B[49m\u001B[43mcolumns\u001B[49m\u001B[38;5;241;43m=\u001B[39;49m\u001B[43mcolumns\u001B[49m\u001B[43m,\u001B[49m\n\u001B[0;32m   5352\u001B[0m \u001B[43m        \u001B[49m\u001B[43mlevel\u001B[49m\u001B[38;5;241;43m=\u001B[39;49m\u001B[43mlevel\u001B[49m\u001B[43m,\u001B[49m\n\u001B[0;32m   5353\u001B[0m \u001B[43m        \u001B[49m\u001B[43minplace\u001B[49m\u001B[38;5;241;43m=\u001B[39;49m\u001B[43minplace\u001B[49m\u001B[43m,\u001B[49m\n\u001B[0;32m   5354\u001B[0m \u001B[43m        \u001B[49m\u001B[43merrors\u001B[49m\u001B[38;5;241;43m=\u001B[39;49m\u001B[43merrors\u001B[49m\u001B[43m,\u001B[49m\n\u001B[0;32m   5355\u001B[0m \u001B[43m    \u001B[49m\u001B[43m)\u001B[49m\n",
      "File \u001B[1;32m~\\AppData\\Local\\Programs\\Python\\Python310\\lib\\site-packages\\pandas\\core\\generic.py:4711\u001B[0m, in \u001B[0;36mNDFrame.drop\u001B[1;34m(self, labels, axis, index, columns, level, inplace, errors)\u001B[0m\n\u001B[0;32m   4709\u001B[0m \u001B[38;5;28;01mfor\u001B[39;00m axis, labels \u001B[38;5;129;01min\u001B[39;00m axes\u001B[38;5;241m.\u001B[39mitems():\n\u001B[0;32m   4710\u001B[0m     \u001B[38;5;28;01mif\u001B[39;00m labels \u001B[38;5;129;01mis\u001B[39;00m \u001B[38;5;129;01mnot\u001B[39;00m \u001B[38;5;28;01mNone\u001B[39;00m:\n\u001B[1;32m-> 4711\u001B[0m         obj \u001B[38;5;241m=\u001B[39m \u001B[43mobj\u001B[49m\u001B[38;5;241;43m.\u001B[39;49m\u001B[43m_drop_axis\u001B[49m\u001B[43m(\u001B[49m\u001B[43mlabels\u001B[49m\u001B[43m,\u001B[49m\u001B[43m \u001B[49m\u001B[43maxis\u001B[49m\u001B[43m,\u001B[49m\u001B[43m \u001B[49m\u001B[43mlevel\u001B[49m\u001B[38;5;241;43m=\u001B[39;49m\u001B[43mlevel\u001B[49m\u001B[43m,\u001B[49m\u001B[43m \u001B[49m\u001B[43merrors\u001B[49m\u001B[38;5;241;43m=\u001B[39;49m\u001B[43merrors\u001B[49m\u001B[43m)\u001B[49m\n\u001B[0;32m   4713\u001B[0m \u001B[38;5;28;01mif\u001B[39;00m inplace:\n\u001B[0;32m   4714\u001B[0m     \u001B[38;5;28mself\u001B[39m\u001B[38;5;241m.\u001B[39m_update_inplace(obj)\n",
      "File \u001B[1;32m~\\AppData\\Local\\Programs\\Python\\Python310\\lib\\site-packages\\pandas\\core\\generic.py:4753\u001B[0m, in \u001B[0;36mNDFrame._drop_axis\u001B[1;34m(self, labels, axis, level, errors, only_slice)\u001B[0m\n\u001B[0;32m   4751\u001B[0m         new_axis \u001B[38;5;241m=\u001B[39m axis\u001B[38;5;241m.\u001B[39mdrop(labels, level\u001B[38;5;241m=\u001B[39mlevel, errors\u001B[38;5;241m=\u001B[39merrors)\n\u001B[0;32m   4752\u001B[0m     \u001B[38;5;28;01melse\u001B[39;00m:\n\u001B[1;32m-> 4753\u001B[0m         new_axis \u001B[38;5;241m=\u001B[39m \u001B[43maxis\u001B[49m\u001B[38;5;241;43m.\u001B[39;49m\u001B[43mdrop\u001B[49m\u001B[43m(\u001B[49m\u001B[43mlabels\u001B[49m\u001B[43m,\u001B[49m\u001B[43m \u001B[49m\u001B[43merrors\u001B[49m\u001B[38;5;241;43m=\u001B[39;49m\u001B[43merrors\u001B[49m\u001B[43m)\u001B[49m\n\u001B[0;32m   4754\u001B[0m     indexer \u001B[38;5;241m=\u001B[39m axis\u001B[38;5;241m.\u001B[39mget_indexer(new_axis)\n\u001B[0;32m   4756\u001B[0m \u001B[38;5;66;03m# Case for non-unique axis\u001B[39;00m\n\u001B[0;32m   4757\u001B[0m \u001B[38;5;28;01melse\u001B[39;00m:\n",
      "File \u001B[1;32m~\\AppData\\Local\\Programs\\Python\\Python310\\lib\\site-packages\\pandas\\core\\indexes\\base.py:6992\u001B[0m, in \u001B[0;36mIndex.drop\u001B[1;34m(self, labels, errors)\u001B[0m\n\u001B[0;32m   6990\u001B[0m \u001B[38;5;28;01mif\u001B[39;00m mask\u001B[38;5;241m.\u001B[39many():\n\u001B[0;32m   6991\u001B[0m     \u001B[38;5;28;01mif\u001B[39;00m errors \u001B[38;5;241m!=\u001B[39m \u001B[38;5;124m\"\u001B[39m\u001B[38;5;124mignore\u001B[39m\u001B[38;5;124m\"\u001B[39m:\n\u001B[1;32m-> 6992\u001B[0m         \u001B[38;5;28;01mraise\u001B[39;00m \u001B[38;5;167;01mKeyError\u001B[39;00m(\u001B[38;5;124mf\u001B[39m\u001B[38;5;124m\"\u001B[39m\u001B[38;5;132;01m{\u001B[39;00mlabels[mask]\u001B[38;5;241m.\u001B[39mtolist()\u001B[38;5;132;01m}\u001B[39;00m\u001B[38;5;124m not found in axis\u001B[39m\u001B[38;5;124m\"\u001B[39m)\n\u001B[0;32m   6993\u001B[0m     indexer \u001B[38;5;241m=\u001B[39m indexer[\u001B[38;5;241m~\u001B[39mmask]\n\u001B[0;32m   6994\u001B[0m \u001B[38;5;28;01mreturn\u001B[39;00m \u001B[38;5;28mself\u001B[39m\u001B[38;5;241m.\u001B[39mdelete(indexer)\n",
      "\u001B[1;31mKeyError\u001B[0m: \"['target_London', 'target_Moscow', 'target_Paris', 'target_New York', 'target_Dubai', 'target_Tokyo'] not found in axis\""
     ]
    }
   ],
   "source": [
    "X_vacation = vacation_df.drop(['target_Бали', 'target_Киото', 'target_Сидней', 'target_Кейптаун', 'target_Рим', 'target_Барселона'], axis=1)\n",
    "y_vacation = vacation_df['target_Киото']\n",
    "X_train_vacation, X_test_vacation, y_train_vacation, y_test_vacation = train_test_split(X_vacation, y_vacation, test_size=0.2, random_state=42)\n"
   ],
   "metadata": {
    "collapsed": false
   }
  },
  {
   "cell_type": "code",
   "execution_count": null,
   "outputs": [],
   "source": [
    "rf_vacation = RandomForestClassifier(random_state=42)"
   ],
   "metadata": {
    "collapsed": false
   }
  },
  {
   "cell_type": "code",
   "execution_count": null,
   "outputs": [],
   "source": [
    "rf_vacation.fit(X_train_vacation, y_train_vacation)\n",
    "y_pred_vacation = rf_vacation.predict(X_test_vacation)\n",
    "print('Accuracy score for vacation dataset:', accuracy_score(y_test_vacation, y_pred_vacation))\n",
    "print('Confusion matrix for vacation dataset:\\n', confusion_matrix(y_test_vacation, y_pred_vacation))\n",
    "print('Classification report for vacation dataset:\\n', classification_report(y_test_vacation, y_pred_vacation))"
   ],
   "metadata": {
    "collapsed": false
   }
  },
  {
   "cell_type": "code",
   "execution_count": null,
   "outputs": [],
   "source": [
    "random_data = pd.DataFrame(columns=X_vacation.columns)\n",
    "random_data.loc[0] = [random.choice(salary_list), random.choice(age_list)] + [random.randint(0, 1) for i in range(len(random_data.columns) - 2)]\n",
    "random_data\n",
    "random_pred = rf_vacation.predict(random_data)\n",
    "print('Predicted class for random data:', random_pred)"
   ],
   "metadata": {
    "collapsed": false
   }
  },
  {
   "cell_type": "code",
   "execution_count": null,
   "outputs": [],
   "source": [
    "cv_scores_vacation = cross_val_score(rf_vacation, X_vacation, y_vacation, cv=5)\n",
    "print('Cross-validation scores for vacation dataset:', cv_scores_vacation)\n",
    "param_grid_vacation = {'n_estimators': [10, 50, 100, 200], 'max_depth': [None, 2, 4, 6, 8], 'min_samples_split': [2, 4, 6, 8]}\n",
    "grid_search_vacation = GridSearchCV(rf_vacation, param_grid_vacation, cv=5, scoring='accuracy')\n",
    "grid_search_vacation.fit(X_train_vacation, y_train_vacation)\n",
    "print('Best parameters for vacation dataset:', grid_search_vacation.best_params_)\n",
    "print('Best score for vacation dataset:', grid_search_vacation.best_score_)"
   ],
   "metadata": {
    "collapsed": false
   }
  },
  {
   "cell_type": "code",
   "execution_count": null,
   "outputs": [],
   "source": [
    "rf_vacation_opt = RandomForestClassifier(n_estimators=grid_search_vacation.best_params_['n_estimators'], max_depth=grid_search_vacation.best_params_['max_depth'], min_samples_split=grid_search_vacation.best_params_['min_samples_split'], random_state=42)\n",
    "rf_vacation_opt.fit(X_train_vacation, y_train_vacation)\n",
    "y_pred_vacation_opt = rf_vacation_opt.predict(X_test_vacation)\n",
    "print('Accuracy score for vacation dataset (optimized):', accuracy_score(y_test_vacation, y_pred_vacation_opt))\n",
    "print('Confusion matrix for vacation dataset (optimized):\\n', confusion_matrix(y_test_vacation, y_pred_vacation_opt))\n",
    "print('Classification report for vacation dataset (optimized):\\n', classification_report(y_test_vacation, y_pred_vacation_opt))"
   ],
   "metadata": {
    "collapsed": false
   }
  },
  {
   "cell_type": "markdown",
   "source": [
    "## Вывод из работы"
   ],
   "metadata": {
    "collapsed": false
   }
  }
 ],
 "metadata": {
  "kernelspec": {
   "display_name": "Python 3",
   "language": "python",
   "name": "python3"
  },
  "language_info": {
   "codemirror_mode": {
    "name": "ipython",
    "version": 2
   },
   "file_extension": ".py",
   "mimetype": "text/x-python",
   "name": "python",
   "nbconvert_exporter": "python",
   "pygments_lexer": "ipython2",
   "version": "2.7.6"
  }
 },
 "nbformat": 4,
 "nbformat_minor": 0
}
