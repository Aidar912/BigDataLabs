{
 "cells": [
  {
   "cell_type": "code",
   "execution_count": 11,
   "metadata": {
    "collapsed": true
   },
   "outputs": [],
   "source": [
    "import numpy as np"
   ]
  },
  {
   "cell_type": "code",
   "execution_count": 12,
   "outputs": [
    {
     "name": "stdout",
     "output_type": "stream",
     "text": [
      "[5, 10, 15, 20, 25, 30, 35, 40, 45, 50, 55, 60, 65, 70, 75, 80, 85, 90, 95]\n"
     ]
    }
   ],
   "source": [
    "my_array = []\n",
    "for i in range(1,100):\n",
    "    if i % 5 == 0:\n",
    "        my_array.append(i)\n",
    "\n",
    "\n",
    "print(my_array)"
   ],
   "metadata": {
    "collapsed": false
   }
  },
  {
   "cell_type": "code",
   "execution_count": 13,
   "outputs": [
    {
     "name": "stdout",
     "output_type": "stream",
     "text": [
      "[10, 20, 30, 40, 50, 60, 70, 80, 90]\n"
     ]
    }
   ],
   "source": [
    "my_arr_10 = []\n",
    "for a in my_array:\n",
    "    if a % 10 == 0:\n",
    "        my_arr_10.append(a)\n",
    "\n",
    "print(my_arr_10)"
   ],
   "metadata": {
    "collapsed": false
   }
  },
  {
   "cell_type": "code",
   "execution_count": 14,
   "outputs": [
    {
     "data": {
      "text/plain": "array([ 5, 10, 15, 20, 25, 30, 35, 40, 45, 50, 55, 60, 65, 70, 75, 80, 85,\n       90, 95])"
     },
     "execution_count": 14,
     "metadata": {},
     "output_type": "execute_result"
    }
   ],
   "source": [
    "np.array(my_array)"
   ],
   "metadata": {
    "collapsed": false
   }
  },
  {
   "cell_type": "code",
   "execution_count": 15,
   "outputs": [
    {
     "data": {
      "text/plain": "array([[85, 24],\n       [76, 87],\n       [92, 98],\n       [26, 62],\n       [44, 87],\n       [ 4, 80],\n       [15, 21],\n       [56, 70],\n       [22, 59],\n       [75, 21]])"
     },
     "execution_count": 15,
     "metadata": {},
     "output_type": "execute_result"
    }
   ],
   "source": [
    "import random as r\n",
    "\n",
    "my_random_list = [[r.randint(1,100) for i in range(2)] for _ in range(10)]\n",
    "\n",
    "np.array(my_random_list)"
   ],
   "metadata": {
    "collapsed": false
   }
  },
  {
   "cell_type": "code",
   "execution_count": 16,
   "outputs": [
    {
     "data": {
      "text/plain": "array([93, 64, 58, 95,  2, 25, 42, 33, 41, 56])"
     },
     "execution_count": 16,
     "metadata": {},
     "output_type": "execute_result"
    }
   ],
   "source": [
    "original_array = [r.randint(5,100) for _ in range(10)]\n",
    "my_second_array = []\n",
    "\n",
    "for i in range(0, len(original_array)):\n",
    "    if original_array[i] < original_array[i - 1]:\n",
    "        my_second_array.append(original_array[i] - 5)\n",
    "    else:\n",
    "        my_second_array.append(original_array[i])\n",
    "\n",
    "np.array(my_second_array)"
   ],
   "metadata": {
    "collapsed": false
   }
  }
 ],
 "metadata": {
  "kernelspec": {
   "display_name": "Python 3",
   "language": "python",
   "name": "python3"
  },
  "language_info": {
   "codemirror_mode": {
    "name": "ipython",
    "version": 2
   },
   "file_extension": ".py",
   "mimetype": "text/x-python",
   "name": "python",
   "nbconvert_exporter": "python",
   "pygments_lexer": "ipython2",
   "version": "2.7.6"
  }
 },
 "nbformat": 4,
 "nbformat_minor": 0
}
