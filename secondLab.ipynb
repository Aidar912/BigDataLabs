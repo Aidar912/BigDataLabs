{
 "cells": [
  {
   "cell_type": "markdown",
   "source": [
    "<h1 style=\"color:green;font-size:22px;font-style:italic\">Создайте одномерный массив my_array, в котором по порядку все числа до 100, кратные 5</h1>"
   ],
   "metadata": {
    "collapsed": false
   }
  },
  {
   "cell_type": "code",
   "execution_count": 40,
   "outputs": [],
   "source": [
    "import numpy as np"
   ],
   "metadata": {
    "collapsed": false
   }
  },
  {
   "cell_type": "code",
   "execution_count": 41,
   "outputs": [
    {
     "name": "stdout",
     "output_type": "stream",
     "text": [
      "[5, 10, 15, 20, 25, 30, 35, 40, 45, 50, 55, 60, 65, 70, 75, 80, 85, 90, 95]\n"
     ]
    }
   ],
   "source": [
    "my_array = []\n",
    "for i in range(1,100):\n",
    "    if i % 5 == 0:\n",
    "        my_array.append(i)\n",
    "\n",
    "\n",
    "print(my_array)"
   ],
   "metadata": {
    "collapsed": false
   }
  },
  {
   "cell_type": "markdown",
   "source": [
    "<h1 style=\"color:green;font-size:22px;font-style:italic\">Из полученного массива получить массив с кратными 10 числами</h1>"
   ],
   "metadata": {
    "collapsed": false
   }
  },
  {
   "cell_type": "code",
   "execution_count": 42,
   "outputs": [
    {
     "name": "stdout",
     "output_type": "stream",
     "text": [
      "[10, 20, 30, 40, 50, 60, 70, 80, 90]\n"
     ]
    }
   ],
   "source": [
    "my_arr_10 = []\n",
    "for a in my_array:\n",
    "    if a % 10 == 0:\n",
    "        my_arr_10.append(a)\n",
    "\n",
    "print(my_arr_10)"
   ],
   "metadata": {
    "collapsed": false
   }
  },
  {
   "cell_type": "markdown",
   "source": [
    "<h1 style=\"color:green;font-size:22px;font-style:italic\">Получить двумерный массив с двумя столбцами</h1>"
   ],
   "metadata": {
    "collapsed": false
   }
  },
  {
   "cell_type": "code",
   "execution_count": 43,
   "outputs": [
    {
     "data": {
      "text/plain": "array([[92, 28],\n       [56, 34],\n       [ 3, 63],\n       [15, 19],\n       [ 3, 73],\n       [73, 65],\n       [21, 94],\n       [20, 85],\n       [33, 86],\n       [11, 84]])"
     },
     "execution_count": 43,
     "metadata": {},
     "output_type": "execute_result"
    }
   ],
   "source": [
    "import random as r\n",
    "\n",
    "my_random_list = [[r.randint(1,100) for i in range(2)] for _ in range(10)]\n",
    "\n",
    "np.array(my_random_list)"
   ],
   "metadata": {
    "collapsed": false
   }
  },
  {
   "cell_type": "markdown",
   "source": [
    "<h1 style=\"color:green;font-size:22px;font-style:italic\">Получите набор my_second_array, в котором все элементы меньше предыдущего исходного на 5</h1>"
   ],
   "metadata": {
    "collapsed": false
   }
  },
  {
   "cell_type": "code",
   "execution_count": 44,
   "outputs": [
    {
     "name": "stdout",
     "output_type": "stream",
     "text": [
      "Исходный массив: [90, 5, 97, 50, 94, 43, 14, 48, 43, 56]\n",
      "Полученный массив: [85, 0, 92, 45, 89, 38, 9, 43, 38, 51]\n"
     ]
    }
   ],
   "source": [
    "original_array = [r.randint(5,100) for _ in range(10)]\n",
    "my_second_array = []\n",
    "\n",
    "for i in range(0, len(original_array)):\n",
    "        my_second_array.append(original_array[i] - 5)\n",
    "print(\"Исходный массив:\",original_array)\n",
    "print(\"Полученный массив:\",my_second_array)"
   ],
   "metadata": {
    "collapsed": false
   }
  },
  {
   "cell_type": "markdown",
   "source": [
    "<h1 style=\"color:green;font-size:22px;font-style:italic\">Соедините массивы, полученные в п. 3.1 и 4.1, горизонтально. Используйте .T для транспонирования матрицы.</h1>"
   ],
   "metadata": {
    "collapsed": false
   }
  },
  {
   "cell_type": "code",
   "execution_count": 45,
   "outputs": [
    {
     "name": "stdout",
     "output_type": "stream",
     "text": [
      "Массив 3.1: [[92, 28], [56, 34], [3, 63], [15, 19], [3, 73], [73, 65], [21, 94], [20, 85], [33, 86], [11, 84]]\n",
      "Массив 4.1: [85, 0, 92, 45, 89, 38, 9, 43, 38, 51]\n",
      "Результат горизонтальной конкатенации:\n"
     ]
    },
    {
     "data": {
      "text/plain": "array([[92, 28, 85],\n       [56, 34,  0],\n       [ 3, 63, 92],\n       [15, 19, 45],\n       [ 3, 73, 89],\n       [73, 65, 38],\n       [21, 94,  9],\n       [20, 85, 43],\n       [33, 86, 38],\n       [11, 84, 51]])"
     },
     "execution_count": 45,
     "metadata": {},
     "output_type": "execute_result"
    }
   ],
   "source": [
    "random_array = np.array(my_random_list)\n",
    "second_array = np.array(my_second_array)\n",
    "\n",
    "\n",
    "result_array = np.concatenate((random_array, second_array[:, np.newaxis]), axis=1)\n",
    "\n",
    "print(\"Массив 3.1:\",my_random_list)\n",
    "\n",
    "\n",
    "print(\"Массив 4.1:\",my_second_array)\n",
    "\n",
    "\n",
    "print(\"Результат горизонтальной конкатенации:\")\n",
    "np.array(result_array)"
   ],
   "metadata": {
    "collapsed": false
   }
  },
  {
   "cell_type": "markdown",
   "source": [
    "<h1 style=\"color:green;font-size:22px;font-style:italic\">Разделите 2 и 3 строку на 4 верхних строки my_array. Используйте .T для транспонирования матрицы</h1>"
   ],
   "metadata": {
    "collapsed": false
   }
  },
  {
   "cell_type": "code",
   "execution_count": 45,
   "outputs": [],
   "source": [],
   "metadata": {
    "collapsed": false
   }
  }
 ],
 "metadata": {
  "kernelspec": {
   "display_name": "Python 3",
   "language": "python",
   "name": "python3"
  },
  "language_info": {
   "codemirror_mode": {
    "name": "ipython",
    "version": 2
   },
   "file_extension": ".py",
   "mimetype": "text/x-python",
   "name": "python",
   "nbconvert_exporter": "python",
   "pygments_lexer": "ipython2",
   "version": "2.7.6"
  }
 },
 "nbformat": 4,
 "nbformat_minor": 0
}
